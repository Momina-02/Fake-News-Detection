{
 "cells": [
  {
   "cell_type": "code",
   "execution_count": null,
   "metadata": {},
   "outputs": [],
   "source": [
    "# model.py\n",
    "\n",
    "import pandas as pd\n",
    "from sklearn.model_selection import train_test_split\n",
    "from sklearn.feature_extraction.text import TfidfVectorizer\n",
    "from sklearn.linear_model import LogisticRegression\n",
    "from sklearn.pipeline import Pipeline\n",
    "import joblib\n",
    "\n",
    "# Load the datasets\n",
    "df_fake = pd.read_csv(r'C:\\Users\\dell\\Downloads\\archive (10)\\News _dataset\\Fake.csv')\n",
    "df_true = pd.read_csv(r'C:\\Users\\dell\\Downloads\\archive (10)\\News _dataset\\True.csv')\n",
    "\n",
    "# Add a label column: 1 for Fake, 0 for True\n",
    "df_fake['label'] = 1\n",
    "df_true['label'] = 0\n",
    "\n",
    "# Combine the datasets\n",
    "df = pd.concat([df_fake, df_true], axis=0)\n",
    "\n",
    "# Features and labels\n",
    "X = df['text']  # Using the text column for model training\n",
    "y = df['label']\n",
    "\n",
    "# Split the data\n",
    "X_train, X_test, y_train, y_test = train_test_split(X, y, test_size=0.2, random_state=42)\n",
    "\n",
    "# Create a pipeline with TfidfVectorizer and LogisticRegression\n",
    "pipeline = Pipeline([\n",
    "    ('tfidf', TfidfVectorizer(max_features=5000)),\n",
    "    ('lr', LogisticRegression())\n",
    "])\n",
    "\n",
    "# Train the model\n",
    "pipeline.fit(X_train, y_train)\n",
    "\n",
    "# Save the model\n",
    "joblib.dump(pipeline, 'fake_news_model.pkl')\n"
   ]
  }
 ],
 "metadata": {
  "language_info": {
   "name": "python"
  }
 },
 "nbformat": 4,
 "nbformat_minor": 2
}
